{
 "cells": [
  {
   "cell_type": "code",
   "execution_count": 45,
   "metadata": {},
   "outputs": [],
   "source": [
    "# Khai báo thư viện\n",
    "import pandas as pd\n",
    "import numpy as np\n",
    "from sklearn.mixture import BayesianGaussianMixture,GaussianMixture\n",
    "from sklearn.model_selection import StratifiedKFold\n",
    "import lightgbm as lgb\n",
    "from statsmodels.tsa.stattools import adfuller\n",
    "from statsmodels.graphics.tsaplots import plot_acf, plot_pacf\n",
    "import matplotlib.pyplot as plt\n",
    "from sklearn.cluster import KMeans\n",
    "\n"
   ]
  },
  {
   "cell_type": "code",
   "execution_count": 17,
   "metadata": {},
   "outputs": [
    {
     "name": "stdout",
     "output_type": "stream",
     "text": [
      "Failed to read file with encoding: utf-8\n",
      "File successfully read with encoding: latin1\n",
      "Đã lưu thành công vào new.csv\n"
     ]
    },
    {
     "data": {
      "text/html": [
       "<div>\n",
       "<style scoped>\n",
       "    .dataframe tbody tr th:only-of-type {\n",
       "        vertical-align: middle;\n",
       "    }\n",
       "\n",
       "    .dataframe tbody tr th {\n",
       "        vertical-align: top;\n",
       "    }\n",
       "\n",
       "    .dataframe thead th {\n",
       "        text-align: right;\n",
       "    }\n",
       "</style>\n",
       "<table border=\"1\" class=\"dataframe\">\n",
       "  <thead>\n",
       "    <tr style=\"text-align: right;\">\n",
       "      <th></th>\n",
       "      <th>Ngày</th>\n",
       "      <th>1</th>\n",
       "      <th>2</th>\n",
       "      <th>3</th>\n",
       "      <th>4</th>\n",
       "      <th>5</th>\n",
       "      <th>6</th>\n",
       "      <th>7</th>\n",
       "      <th>8</th>\n",
       "      <th>9</th>\n",
       "      <th>...</th>\n",
       "      <th>39</th>\n",
       "      <th>40</th>\n",
       "      <th>41</th>\n",
       "      <th>42</th>\n",
       "      <th>43</th>\n",
       "      <th>44</th>\n",
       "      <th>45</th>\n",
       "      <th>46</th>\n",
       "      <th>47</th>\n",
       "      <th>48</th>\n",
       "    </tr>\n",
       "  </thead>\n",
       "  <tbody>\n",
       "    <tr>\n",
       "      <th>0</th>\n",
       "      <td>01/01/2021</td>\n",
       "      <td>964.4</td>\n",
       "      <td>964.4</td>\n",
       "      <td>964.4</td>\n",
       "      <td>964.4</td>\n",
       "      <td>964.4</td>\n",
       "      <td>964.4</td>\n",
       "      <td>964.4</td>\n",
       "      <td>964.4</td>\n",
       "      <td>964.4</td>\n",
       "      <td>...</td>\n",
       "      <td>964.4</td>\n",
       "      <td>964.4</td>\n",
       "      <td>964.4</td>\n",
       "      <td>964.4</td>\n",
       "      <td>964.4</td>\n",
       "      <td>964.4</td>\n",
       "      <td>964.4</td>\n",
       "      <td>964.4</td>\n",
       "      <td>964.4</td>\n",
       "      <td>964.4</td>\n",
       "    </tr>\n",
       "    <tr>\n",
       "      <th>1</th>\n",
       "      <td>01/02/2021</td>\n",
       "      <td>1019.7</td>\n",
       "      <td>1019.7</td>\n",
       "      <td>1019.7</td>\n",
       "      <td>1019.7</td>\n",
       "      <td>1019.7</td>\n",
       "      <td>1019.7</td>\n",
       "      <td>1019.7</td>\n",
       "      <td>1019.7</td>\n",
       "      <td>1019.7</td>\n",
       "      <td>...</td>\n",
       "      <td>1019.7</td>\n",
       "      <td>1019.7</td>\n",
       "      <td>1019.7</td>\n",
       "      <td>1019.7</td>\n",
       "      <td>1019.7</td>\n",
       "      <td>1019.7</td>\n",
       "      <td>1019.7</td>\n",
       "      <td>1019.7</td>\n",
       "      <td>1019.7</td>\n",
       "      <td>1019.7</td>\n",
       "    </tr>\n",
       "    <tr>\n",
       "      <th>2</th>\n",
       "      <td>01/03/2021</td>\n",
       "      <td>988.4</td>\n",
       "      <td>988.4</td>\n",
       "      <td>988.4</td>\n",
       "      <td>988.4</td>\n",
       "      <td>988.4</td>\n",
       "      <td>988.4</td>\n",
       "      <td>988.4</td>\n",
       "      <td>988.4</td>\n",
       "      <td>988.4</td>\n",
       "      <td>...</td>\n",
       "      <td>988.4</td>\n",
       "      <td>988.4</td>\n",
       "      <td>988.4</td>\n",
       "      <td>988.4</td>\n",
       "      <td>988.4</td>\n",
       "      <td>988.4</td>\n",
       "      <td>988.4</td>\n",
       "      <td>988.4</td>\n",
       "      <td>988.4</td>\n",
       "      <td>988.4</td>\n",
       "    </tr>\n",
       "    <tr>\n",
       "      <th>3</th>\n",
       "      <td>01/04/2021</td>\n",
       "      <td>1002.0</td>\n",
       "      <td>1002.0</td>\n",
       "      <td>1002.0</td>\n",
       "      <td>1002.0</td>\n",
       "      <td>1002.0</td>\n",
       "      <td>1002.0</td>\n",
       "      <td>1002.0</td>\n",
       "      <td>1002.0</td>\n",
       "      <td>1002.1</td>\n",
       "      <td>...</td>\n",
       "      <td>1010.8</td>\n",
       "      <td>1010.8</td>\n",
       "      <td>1010.8</td>\n",
       "      <td>1010.8</td>\n",
       "      <td>1010.8</td>\n",
       "      <td>1010.8</td>\n",
       "      <td>1010.8</td>\n",
       "      <td>1010.8</td>\n",
       "      <td>1010.8</td>\n",
       "      <td>1010.8</td>\n",
       "    </tr>\n",
       "    <tr>\n",
       "      <th>4</th>\n",
       "      <td>01/05/2021</td>\n",
       "      <td>1061.5</td>\n",
       "      <td>1061.5</td>\n",
       "      <td>1061.5</td>\n",
       "      <td>1061.5</td>\n",
       "      <td>1061.5</td>\n",
       "      <td>1061.5</td>\n",
       "      <td>1061.5</td>\n",
       "      <td>1061.5</td>\n",
       "      <td>1061.5</td>\n",
       "      <td>...</td>\n",
       "      <td>1061.5</td>\n",
       "      <td>1061.5</td>\n",
       "      <td>1061.5</td>\n",
       "      <td>1061.5</td>\n",
       "      <td>1061.5</td>\n",
       "      <td>1061.5</td>\n",
       "      <td>1061.5</td>\n",
       "      <td>1061.5</td>\n",
       "      <td>1061.5</td>\n",
       "      <td>1061.5</td>\n",
       "    </tr>\n",
       "  </tbody>\n",
       "</table>\n",
       "<p>5 rows × 49 columns</p>\n",
       "</div>"
      ],
      "text/plain": [
       "         Ngày       1       2       3       4       5       6       7       8  \\\n",
       "0  01/01/2021   964.4   964.4   964.4   964.4   964.4   964.4   964.4   964.4   \n",
       "1  01/02/2021  1019.7  1019.7  1019.7  1019.7  1019.7  1019.7  1019.7  1019.7   \n",
       "2  01/03/2021   988.4   988.4   988.4   988.4   988.4   988.4   988.4   988.4   \n",
       "3  01/04/2021  1002.0  1002.0  1002.0  1002.0  1002.0  1002.0  1002.0  1002.0   \n",
       "4  01/05/2021  1061.5  1061.5  1061.5  1061.5  1061.5  1061.5  1061.5  1061.5   \n",
       "\n",
       "        9  ...      39      40      41      42      43      44      45  \\\n",
       "0   964.4  ...   964.4   964.4   964.4   964.4   964.4   964.4   964.4   \n",
       "1  1019.7  ...  1019.7  1019.7  1019.7  1019.7  1019.7  1019.7  1019.7   \n",
       "2   988.4  ...   988.4   988.4   988.4   988.4   988.4   988.4   988.4   \n",
       "3  1002.1  ...  1010.8  1010.8  1010.8  1010.8  1010.8  1010.8  1010.8   \n",
       "4  1061.5  ...  1061.5  1061.5  1061.5  1061.5  1061.5  1061.5  1061.5   \n",
       "\n",
       "       46      47      48  \n",
       "0   964.4   964.4   964.4  \n",
       "1  1019.7  1019.7  1019.7  \n",
       "2   988.4   988.4   988.4  \n",
       "3  1010.8  1010.8  1010.8  \n",
       "4  1061.5  1061.5  1061.5  \n",
       "\n",
       "[5 rows x 49 columns]"
      ]
     },
     "execution_count": 17,
     "metadata": {},
     "output_type": "execute_result"
    }
   ],
   "source": [
    "encodings_to_try = ['utf-8', 'latin1', 'ISO-8859-1', 'cp1252']\n",
    "\n",
    "for encoding in encodings_to_try:\n",
    "    try:\n",
    "        df = pd.read_csv('Gia SMP va SMPcap 2021(Giá thị trường SMP).csv', sep=';', encoding=encoding)\n",
    "        print(\"File successfully read with encoding:\", encoding)\n",
    "        break\n",
    "    except UnicodeDecodeError:\n",
    "        print(\"Failed to read file with encoding:\", encoding)\n",
    "\n",
    "# Lưu DataFrame vào file CSV mới\n",
    "df.to_csv('new.csv', index=False)\n",
    "\n",
    "print(\"Đã lưu thành công vào new.csv\")\n",
    "\n",
    "df = pd.read_csv('new.csv')\n",
    "df.head()"
   ]
  },
  {
   "cell_type": "code",
   "execution_count": 18,
   "metadata": {},
   "outputs": [
    {
     "data": {
      "text/html": [
       "<div>\n",
       "<style scoped>\n",
       "    .dataframe tbody tr th:only-of-type {\n",
       "        vertical-align: middle;\n",
       "    }\n",
       "\n",
       "    .dataframe tbody tr th {\n",
       "        vertical-align: top;\n",
       "    }\n",
       "\n",
       "    .dataframe thead th {\n",
       "        text-align: right;\n",
       "    }\n",
       "</style>\n",
       "<table border=\"1\" class=\"dataframe\">\n",
       "  <thead>\n",
       "    <tr style=\"text-align: right;\">\n",
       "      <th></th>\n",
       "      <th>Ngày</th>\n",
       "      <th>13</th>\n",
       "    </tr>\n",
       "  </thead>\n",
       "  <tbody>\n",
       "    <tr>\n",
       "      <th>0</th>\n",
       "      <td>01/01/2021</td>\n",
       "      <td>964.4</td>\n",
       "    </tr>\n",
       "    <tr>\n",
       "      <th>1</th>\n",
       "      <td>01/02/2021</td>\n",
       "      <td>1019.7</td>\n",
       "    </tr>\n",
       "    <tr>\n",
       "      <th>2</th>\n",
       "      <td>01/03/2021</td>\n",
       "      <td>988.4</td>\n",
       "    </tr>\n",
       "    <tr>\n",
       "      <th>3</th>\n",
       "      <td>01/04/2021</td>\n",
       "      <td>1010.8</td>\n",
       "    </tr>\n",
       "    <tr>\n",
       "      <th>4</th>\n",
       "      <td>01/05/2021</td>\n",
       "      <td>1061.5</td>\n",
       "    </tr>\n",
       "  </tbody>\n",
       "</table>\n",
       "</div>"
      ],
      "text/plain": [
       "         Ngày      13\n",
       "0  01/01/2021   964.4\n",
       "1  01/02/2021  1019.7\n",
       "2  01/03/2021   988.4\n",
       "3  01/04/2021  1010.8\n",
       "4  01/05/2021  1061.5"
      ]
     },
     "execution_count": 18,
     "metadata": {},
     "output_type": "execute_result"
    }
   ],
   "source": [
    "df = pd.concat([df['Ngày'], df['13']], axis = 1)\n",
    "df.head()"
   ]
  },
  {
   "cell_type": "code",
   "execution_count": 19,
   "metadata": {},
   "outputs": [],
   "source": [
    "feats = ['13']"
   ]
  },
  {
   "cell_type": "code",
   "execution_count": 20,
   "metadata": {},
   "outputs": [],
   "source": [
    "from sklearn.preprocessing import PowerTransformer\n",
    "\n",
    "X = df['13'].values.reshape(-1, 1)\n",
    "\n",
    "# Áp dụng PowerTransformer\n",
    "transformer = PowerTransformer()\n",
    "X_transformed = transformer.fit_transform(X)"
   ]
  },
  {
   "cell_type": "code",
   "execution_count": 46,
   "metadata": {},
   "outputs": [
    {
     "name": "stderr",
     "output_type": "stream",
     "text": [
      "c:\\Users\\DELL\\AppData\\Local\\Programs\\Python\\Python310\\lib\\site-packages\\sklearn\\cluster\\_kmeans.py:1412: FutureWarning: The default value of `n_init` will change from 10 to 'auto' in 1.4. Set the value of `n_init` explicitly to suppress the warning\n",
      "  super()._check_params_vs_input(X, default_n_init=10)\n",
      "c:\\Users\\DELL\\AppData\\Local\\Programs\\Python\\Python310\\lib\\site-packages\\sklearn\\cluster\\_kmeans.py:1412: FutureWarning: The default value of `n_init` will change from 10 to 'auto' in 1.4. Set the value of `n_init` explicitly to suppress the warning\n",
      "  super()._check_params_vs_input(X, default_n_init=10)\n",
      "c:\\Users\\DELL\\AppData\\Local\\Programs\\Python\\Python310\\lib\\site-packages\\sklearn\\cluster\\_kmeans.py:1412: FutureWarning: The default value of `n_init` will change from 10 to 'auto' in 1.4. Set the value of `n_init` explicitly to suppress the warning\n",
      "  super()._check_params_vs_input(X, default_n_init=10)\n",
      "c:\\Users\\DELL\\AppData\\Local\\Programs\\Python\\Python310\\lib\\site-packages\\sklearn\\cluster\\_kmeans.py:1412: FutureWarning: The default value of `n_init` will change from 10 to 'auto' in 1.4. Set the value of `n_init` explicitly to suppress the warning\n",
      "  super()._check_params_vs_input(X, default_n_init=10)\n",
      "c:\\Users\\DELL\\AppData\\Local\\Programs\\Python\\Python310\\lib\\site-packages\\sklearn\\cluster\\_kmeans.py:1412: FutureWarning: The default value of `n_init` will change from 10 to 'auto' in 1.4. Set the value of `n_init` explicitly to suppress the warning\n",
      "  super()._check_params_vs_input(X, default_n_init=10)\n",
      "c:\\Users\\DELL\\AppData\\Local\\Programs\\Python\\Python310\\lib\\site-packages\\sklearn\\cluster\\_kmeans.py:1412: FutureWarning: The default value of `n_init` will change from 10 to 'auto' in 1.4. Set the value of `n_init` explicitly to suppress the warning\n",
      "  super()._check_params_vs_input(X, default_n_init=10)\n",
      "c:\\Users\\DELL\\AppData\\Local\\Programs\\Python\\Python310\\lib\\site-packages\\sklearn\\cluster\\_kmeans.py:1412: FutureWarning: The default value of `n_init` will change from 10 to 'auto' in 1.4. Set the value of `n_init` explicitly to suppress the warning\n",
      "  super()._check_params_vs_input(X, default_n_init=10)\n",
      "c:\\Users\\DELL\\AppData\\Local\\Programs\\Python\\Python310\\lib\\site-packages\\sklearn\\cluster\\_kmeans.py:1412: FutureWarning: The default value of `n_init` will change from 10 to 'auto' in 1.4. Set the value of `n_init` explicitly to suppress the warning\n",
      "  super()._check_params_vs_input(X, default_n_init=10)\n"
     ]
    },
    {
     "data": {
      "image/png": "[encoded data removed]",
      "text/plain": [
       "<Figure size 800x550 with 2 Axes>"
      ]
     },
     "metadata": {},
     "output_type": "display_data"
    },
    {
     "data": {
      "text/plain": [
       "<AxesSubplot: title={'center': 'Distortion Score Elbow for KMeans Clustering'}, xlabel='k', ylabel='distortion score'>"
      ]
     },
     "execution_count": 46,
     "metadata": {},
     "output_type": "execute_result"
    }
   ],
   "source": [
    "from yellowbrick.cluster import KElbowVisualizer\n",
    "Elbow_M = KElbowVisualizer(KMeans(random_state=23), k=(4,12))\n",
    "Elbow_M.fit(X)\n",
    "Elbow_M.show()"
   ]
  },
  {
   "cell_type": "code",
   "execution_count": 21,
   "metadata": {},
   "outputs": [],
   "source": [
    "BGM = BayesianGaussianMixture(n_components=7,covariance_type='full',random_state=1,n_init=15)\n",
    "# fit model and predict clusters\n",
    "preds = BGM.fit_predict(X)\n",
    "\n",
    "#Adding the Clusters feature to the orignal dataframe.\n",
    "df[\"Clusters\"]= preds\n"
   ]
  },
  {
   "cell_type": "code",
   "execution_count": 24,
   "metadata": {},
   "outputs": [],
   "source": [
    "pp=BGM.predict_proba(X)# Calcualting the probabilities of each prediction\n",
    "df_new=pd.DataFrame(X,columns=feats) \n",
    "df_new[[f'predict_proba_{i}' for i in range(7)]]=pp # creating new dataframe columns of probabilites \n",
    "df_new['preds']=preds\n",
    "df_new['predict_proba']=np.max(pp,axis=1)\n",
    "df_new['predict']=np.argmax(pp,axis=1)\n",
    "    \n",
    "train_index=np.array([])\n",
    "for n in range(7):\n",
    "    n_inx=df_new[(df_new.preds==n) & (df_new.predict_proba > 0.68)].index\n",
    "    train_index = np.concatenate((train_index, n_inx))"
   ]
  },
  {
   "cell_type": "code",
   "execution_count": 28,
   "metadata": {},
   "outputs": [
    {
     "name": "stderr",
     "output_type": "stream",
     "text": [
      "c:\\Users\\DELL\\AppData\\Local\\Programs\\Python\\Python310\\lib\\site-packages\\sklearn\\model_selection\\_split.py:725: UserWarning: The least populated class in y has only 4 members, which is less than n_splits=11.\n",
      "  warnings.warn(\n"
     ]
    },
    {
     "name": "stdout",
     "output_type": "stream",
     "text": [
      "[200]\tvalid_0's multi_logloss: 0.000289946\n",
      "[200]\tvalid_0's multi_logloss: 0.000294104\n",
      "[200]\tvalid_0's multi_logloss: 0.000268152\n",
      "[200]\tvalid_0's multi_logloss: 0.0127261\n",
      "[200]\tvalid_0's multi_logloss: 0.000163985\n",
      "[400]\tvalid_0's multi_logloss: 0.000162847\n",
      "[600]\tvalid_0's multi_logloss: 0.000162551\n",
      "[800]\tvalid_0's multi_logloss: 0.000162414\n",
      "[1000]\tvalid_0's multi_logloss: 0.000162337\n",
      "[1200]\tvalid_0's multi_logloss: 0.000162287\n",
      "[1400]\tvalid_0's multi_logloss: 0.000162252\n",
      "[1600]\tvalid_0's multi_logloss: 0.000162227\n",
      "[1800]\tvalid_0's multi_logloss: 0.000162208\n",
      "[2000]\tvalid_0's multi_logloss: 0.000162193\n",
      "[2200]\tvalid_0's multi_logloss: 0.00016218\n",
      "[2400]\tvalid_0's multi_logloss: 0.00016217\n",
      "[2600]\tvalid_0's multi_logloss: 0.000162162\n",
      "[2800]\tvalid_0's multi_logloss: 0.000162154\n",
      "[3000]\tvalid_0's multi_logloss: 0.000162148\n",
      "[3200]\tvalid_0's multi_logloss: 0.000162143\n",
      "[3400]\tvalid_0's multi_logloss: 0.000162138\n",
      "[3600]\tvalid_0's multi_logloss: 0.000162134\n",
      "[3800]\tvalid_0's multi_logloss: 0.00016213\n",
      "[4000]\tvalid_0's multi_logloss: 0.000162127\n",
      "[4200]\tvalid_0's multi_logloss: 0.000162124\n",
      "[4400]\tvalid_0's multi_logloss: 0.000162121\n",
      "[4600]\tvalid_0's multi_logloss: 0.000162118\n",
      "[4800]\tvalid_0's multi_logloss: 0.000162116\n",
      "[5000]\tvalid_0's multi_logloss: 0.000162114\n",
      "[200]\tvalid_0's multi_logloss: 0.000165727\n",
      "[400]\tvalid_0's multi_logloss: 0.000164367\n",
      "[600]\tvalid_0's multi_logloss: 0.000163995\n",
      "[800]\tvalid_0's multi_logloss: 0.000163821\n",
      "[1000]\tvalid_0's multi_logloss: 0.000163722\n",
      "[1200]\tvalid_0's multi_logloss: 0.000163658\n",
      "[1400]\tvalid_0's multi_logloss: 0.000163613\n",
      "[1600]\tvalid_0's multi_logloss: 0.000163581\n",
      "[1800]\tvalid_0's multi_logloss: 0.000163556\n",
      "[2000]\tvalid_0's multi_logloss: 0.000163536\n",
      "[2200]\tvalid_0's multi_logloss: 0.00016352\n",
      "[2400]\tvalid_0's multi_logloss: 0.000163507\n",
      "[2600]\tvalid_0's multi_logloss: 0.000163495\n",
      "[2800]\tvalid_0's multi_logloss: 0.000163486\n",
      "[3000]\tvalid_0's multi_logloss: 0.000163478\n",
      "[3200]\tvalid_0's multi_logloss: 0.000163471\n",
      "[3400]\tvalid_0's multi_logloss: 0.000163465\n",
      "[3600]\tvalid_0's multi_logloss: 0.000163459\n",
      "[3800]\tvalid_0's multi_logloss: 0.000163454\n",
      "[4000]\tvalid_0's multi_logloss: 0.00016345\n",
      "[4200]\tvalid_0's multi_logloss: 0.000163446\n",
      "[4400]\tvalid_0's multi_logloss: 0.000163442\n",
      "[4600]\tvalid_0's multi_logloss: 0.000163439\n",
      "[4800]\tvalid_0's multi_logloss: 0.000163436\n",
      "[5000]\tvalid_0's multi_logloss: 0.000163433\n",
      "[200]\tvalid_0's multi_logloss: 1.26934e-05\n",
      "[400]\tvalid_0's multi_logloss: 1.22325e-05\n",
      "[600]\tvalid_0's multi_logloss: 1.20976e-05\n",
      "[800]\tvalid_0's multi_logloss: 1.2027e-05\n",
      "[1000]\tvalid_0's multi_logloss: 1.19844e-05\n",
      "[1200]\tvalid_0's multi_logloss: 1.19564e-05\n",
      "[1400]\tvalid_0's multi_logloss: 1.19367e-05\n",
      "[1600]\tvalid_0's multi_logloss: 1.19221e-05\n",
      "[1800]\tvalid_0's multi_logloss: 1.19109e-05\n",
      "[2000]\tvalid_0's multi_logloss: 1.1902e-05\n",
      "[2200]\tvalid_0's multi_logloss: 1.18947e-05\n",
      "[2400]\tvalid_0's multi_logloss: 1.18887e-05\n",
      "[2600]\tvalid_0's multi_logloss: 1.18836e-05\n",
      "[2800]\tvalid_0's multi_logloss: 1.18793e-05\n",
      "[3000]\tvalid_0's multi_logloss: 1.18756e-05\n",
      "[3200]\tvalid_0's multi_logloss: 1.18724e-05\n",
      "[3400]\tvalid_0's multi_logloss: 1.18695e-05\n",
      "[3600]\tvalid_0's multi_logloss: 1.1867e-05\n",
      "[3800]\tvalid_0's multi_logloss: 1.18647e-05\n",
      "[4000]\tvalid_0's multi_logloss: 1.18627e-05\n",
      "[4200]\tvalid_0's multi_logloss: 1.18609e-05\n",
      "[4400]\tvalid_0's multi_logloss: 1.18592e-05\n",
      "[4600]\tvalid_0's multi_logloss: 1.18577e-05\n",
      "[4800]\tvalid_0's multi_logloss: 1.18563e-05\n",
      "[5000]\tvalid_0's multi_logloss: 1.1855e-05\n",
      "[200]\tvalid_0's multi_logloss: 0.00017221\n",
      "[400]\tvalid_0's multi_logloss: 0.00017184\n",
      "[600]\tvalid_0's multi_logloss: 0.000171728\n",
      "[800]\tvalid_0's multi_logloss: 0.000171705\n",
      "[1000]\tvalid_0's multi_logloss: 0.000171691\n",
      "[1200]\tvalid_0's multi_logloss: 0.000171681\n",
      "[1400]\tvalid_0's multi_logloss: 0.000171674\n",
      "[1600]\tvalid_0's multi_logloss: 0.000171669\n",
      "[1800]\tvalid_0's multi_logloss: 0.000171665\n",
      "[2000]\tvalid_0's multi_logloss: 0.000171662\n",
      "[2200]\tvalid_0's multi_logloss: 0.000171659\n",
      "[2400]\tvalid_0's multi_logloss: 0.000171656\n",
      "[2600]\tvalid_0's multi_logloss: 0.000171655\n",
      "[2800]\tvalid_0's multi_logloss: 0.000171653\n",
      "[3000]\tvalid_0's multi_logloss: 0.000171651\n",
      "[3200]\tvalid_0's multi_logloss: 0.00017165\n",
      "[3400]\tvalid_0's multi_logloss: 0.000171649\n",
      "[3600]\tvalid_0's multi_logloss: 0.000171648\n",
      "[3800]\tvalid_0's multi_logloss: 0.000171647\n",
      "[4000]\tvalid_0's multi_logloss: 0.000171646\n",
      "[4200]\tvalid_0's multi_logloss: 0.000171646\n",
      "[4400]\tvalid_0's multi_logloss: 0.000171645\n",
      "[4600]\tvalid_0's multi_logloss: 0.000171644\n",
      "[4800]\tvalid_0's multi_logloss: 0.000171644\n",
      "[5000]\tvalid_0's multi_logloss: 0.000171643\n",
      "[200]\tvalid_0's multi_logloss: 0.000288057\n",
      "[200]\tvalid_0's multi_logloss: 0.0128584\n",
      "[200]\tvalid_0's multi_logloss: 0.0252437\n"
     ]
    }
   ],
   "source": [
    "from sklearn.model_selection import StratifiedKFold\n",
    "X_new=df_new.loc[train_index][feats]\n",
    "y=df_new.loc[train_index]['preds']\n",
    "\n",
    "params_lgb = {'learning_rate': 0.06,'objective': 'multiclass','boosting': 'gbdt','n_jobs': -1,'verbosity': -1, 'num_classes':7} \n",
    "\n",
    "model_list=[]\n",
    "\n",
    "gkf = StratifiedKFold(11)\n",
    "for fold, (train_idx, valid_idx) in enumerate(gkf.split(X_new,y)):   \n",
    "\n",
    "    tr_dataset = lgb.Dataset(X_new.iloc[train_idx],y.iloc[train_idx],feature_name = feats)\n",
    "    vl_dataset = lgb.Dataset(X_new.iloc[valid_idx],y.iloc[valid_idx],feature_name = feats)\n",
    "    \n",
    "    model = lgb.train(params = params_lgb, \n",
    "                train_set = tr_dataset, \n",
    "                valid_sets =  vl_dataset, \n",
    "                num_boost_round = 5000, \n",
    "                callbacks=[ lgb.early_stopping(stopping_rounds=300, verbose=False), lgb.log_evaluation(period=200)])  \n",
    "    \n",
    "    model_list.append(model) "
   ]
  },
  {
   "cell_type": "code",
   "execution_count": 29,
   "metadata": {},
   "outputs": [],
   "source": [
    "lgb_preds=0\n",
    "for model in model_list:\n",
    "    lgb_preds+=model.predict(df_new[feats])"
   ]
  },
  {
   "cell_type": "code",
   "execution_count": 30,
   "metadata": {},
   "outputs": [],
   "source": [
    "labels=np.argmax(lgb_preds,axis=1)"
   ]
  },
  {
   "cell_type": "code",
   "execution_count": 32,
   "metadata": {},
   "outputs": [],
   "source": [
    "r_t = np.log(df['13'] / df['13'].shift(1)).values"
   ]
  },
  {
   "cell_type": "code",
   "execution_count": 33,
   "metadata": {},
   "outputs": [
    {
     "data": {
      "text/plain": [
       "array([ 0.00016098,  0.0557576 , -0.03117627,  0.0224099 ,  0.04894091])"
      ]
     },
     "execution_count": 33,
     "metadata": {},
     "output_type": "execute_result"
    }
   ],
   "source": [
    "mean = np.nanmean(r_t)\n",
    "r_t[0]=mean\n",
    "r_t[:5]"
   ]
  },
  {
   "cell_type": "code",
   "execution_count": 35,
   "metadata": {},
   "outputs": [
    {
     "name": "stdout",
     "output_type": "stream",
     "text": [
      "ADF Statistic: -9.350953\n",
      "p-value: 0.000000\n",
      "Critical Values:\n",
      "\t1%: -3.449\n",
      "\t5%: -2.870\n",
      "\t10%: -2.571\n"
     ]
    }
   ],
   "source": [
    "from statsmodels.tsa.stattools import adfuller\n",
    "result = adfuller(r_t)\n",
    "print('ADF Statistic: %f' % result[0])\n",
    "print('p-value: %f' % result[1])\n",
    "print('Critical Values:')\n",
    "for key, value in result[4].items():\n",
    "\tprint('\\t%s: %.3f' % (key, value))"
   ]
  },
  {
   "cell_type": "code",
   "execution_count": 37,
   "metadata": {},
   "outputs": [
    {
     "data": {
      "text/plain": [
       "<Figure size 800x600 with 0 Axes>"
      ]
     },
     "metadata": {},
     "output_type": "display_data"
    },
    {
     "data": {
      "image/png": "[encoded data removed]",
      "text/plain": [
       "<Figure size 640x480 with 1 Axes>"
      ]
     },
     "metadata": {},
     "output_type": "display_data"
    }
   ],
   "source": [
    "\n",
    "plt.figure(figsize = (8, 6))\n",
    "ax1 = plot_acf(r_t)"
   ]
  },
  {
   "cell_type": "code",
   "execution_count": 42,
   "metadata": {},
   "outputs": [
    {
     "name": "stdout",
     "output_type": "stream",
     "text": [
      "                               SARIMAX Results                                \n",
      "==============================================================================\n",
      "Dep. Variable:                      y   No. Observations:                  365\n",
      "Model:                 ARIMA(2, 0, 2)   Log Likelihood                 563.727\n",
      "Date:                Tue, 07 May 2024   AIC                          -1115.453\n",
      "Time:                        10:57:35   BIC                          -1092.054\n",
      "Sample:                             0   HQIC                         -1106.154\n",
      "                                - 365                                         \n",
      "Covariance Type:                  opg                                         \n",
      "==============================================================================\n",
      "                 coef    std err          z      P>|z|      [0.025      0.975]\n",
      "------------------------------------------------------------------------------\n",
      "const         -0.0002      0.001     -0.211      0.833      -0.002       0.001\n",
      "ar.L1         -0.0635      0.066     -0.956      0.339      -0.194       0.067\n",
      "ar.L2          0.5935      0.061      9.713      0.000       0.474       0.713\n",
      "ma.L1         -0.0425      0.051     -0.838      0.402      -0.142       0.057\n",
      "ma.L2         -0.8414      0.054    -15.610      0.000      -0.947      -0.736\n",
      "sigma2         0.0026   9.93e-05     26.270      0.000       0.002       0.003\n",
      "===================================================================================\n",
      "Ljung-Box (L1) (Q):                   0.04   Jarque-Bera (JB):               675.24\n",
      "Prob(Q):                              0.85   Prob(JB):                         0.00\n",
      "Heteroskedasticity (H):               1.74   Skew:                             0.51\n",
      "Prob(H) (two-sided):                  0.00   Kurtosis:                         9.58\n",
      "===================================================================================\n",
      "\n",
      "Warnings:\n",
      "[1] Covariance matrix calculated using the outer product of gradients (complex-step).\n"
     ]
    },
    {
     "name": "stderr",
     "output_type": "stream",
     "text": [
      "c:\\Users\\DELL\\AppData\\Local\\Programs\\Python\\Python310\\lib\\site-packages\\statsmodels\\base\\model.py:607: ConvergenceWarning: Maximum Likelihood optimization failed to converge. Check mle_retvals\n",
      "  warnings.warn(\"Maximum Likelihood optimization failed to \"\n"
     ]
    }
   ],
   "source": [
    "from statsmodels.tsa.arima.model import ARIMA\n",
    "\n",
    "# Khởi tạo và phù hợp với mô hình ARIMA\n",
    "model_arima = ARIMA(r_t, order=(2, 0, 2))\n",
    "model_fit = model_arima.fit()\n",
    "\n",
    "# In ra tóm tắt của mô hình\n",
    "print(model_fit.summary())\n"
   ]
  }
 ],
 "metadata": {
  "kernelspec": {
   "display_name": "Python 3",
   "language": "python",
   "name": "python3"
  },
  "language_info": {
   "codemirror_mode": {
    "name": "ipython",
    "version": 3
   },
   "file_extension": ".py",
   "mimetype": "text/x-python",
   "name": "python",
   "nbconvert_exporter": "python",
   "pygments_lexer": "ipython3",
   "version": "3.10.1"
  },
  "orig_nbformat": 4
 },
 "nbformat": 4,
 "nbformat_minor": 2
}
